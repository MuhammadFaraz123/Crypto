{
 "cells": [
  {
   "cell_type": "code",
   "execution_count": 15,
   "metadata": {},
   "outputs": [],
   "source": [
    "from selenium import webdriver\n",
    "from selenium.webdriver.chrome.options import Options\n",
    "from selenium.webdriver.common.by import By\n",
    "from datetime import datetime, timedelta\n",
    "import time\n",
    "from dateutil.relativedelta import relativedelta\n",
    "from datetime import datetime, timedelta\n",
    "from selenium.webdriver.support.ui import WebDriverWait\n",
    "from selenium.webdriver.support import expected_conditions as EC"
   ]
  },
  {
   "cell_type": "code",
   "execution_count": 16,
   "metadata": {},
   "outputs": [
    {
     "name": "stdout",
     "output_type": "stream",
     "text": [
      "Standard Format is :  2023-08-10 00:00:00\n",
      "Standardized date: 2023-08-10 00:00:00\n",
      "Difference of date: 6 days, 16:03:22.166545\n",
      "true\n",
      "Checking 'August 10, 2023': True\n",
      "\n",
      "\n",
      "Standard Format is :  2023-08-05 00:00:00\n",
      "Standardized date: 2023-08-05 00:00:00\n",
      "Difference of date: 11 days, 16:03:22.166657\n",
      "Checking '2023-08-05': False\n",
      "\n",
      "\n",
      "Date format not recognized.\n",
      "Checking 'Invalid date format': False\n",
      "\n",
      "\n"
     ]
    }
   ],
   "source": [
    "from datetime import datetime, timedelta\n",
    "import re\n",
    "\n",
    "def convert_to_standard_date(date_string):\n",
    "    date_formats = [\n",
    "        \"%b %d, %Y\",\n",
    "        \"%B %d, %Y\",\n",
    "        \"%Y-%m-%d\",  \n",
    "    ]\n",
    "    \n",
    "    for format_str in date_formats:\n",
    "        try:\n",
    "            date_obj = datetime.strptime(date_string, format_str)\n",
    "            print('Standard Format is : ', date_obj)\n",
    "            return date_obj.strftime(\"%Y-%m-%d\")\n",
    "        except ValueError:\n",
    "            pass\n",
    "    \n",
    "    return None  \n",
    "\n",
    "def is_date_1_week_old(date_string):\n",
    "    standardized_date = convert_to_standard_date(date_string)\n",
    "    \n",
    "    if standardized_date is None:\n",
    "        print(\"Date format not recognized.\")\n",
    "        return False\n",
    "    \n",
    "    date_obj = datetime.strptime(standardized_date, \"%Y-%m-%d\")\n",
    "    print('Standardized date:', date_obj)\n",
    "\n",
    "    today = datetime.now()\n",
    "\n",
    "    delta = today - date_obj\n",
    "    print('Difference of date:', delta)\n",
    "\n",
    "    if delta <= timedelta(days=7):\n",
    "        print(\"true\")\n",
    "        return True\n",
    "    else:\n",
    "        return False\n",
    "\n",
    "# Test with example dates\n",
    "date_strings = [\n",
    "    \"August 10, 2023\",\n",
    "    \"2023-08-05\",\n",
    "    \"Invalid date format\",\n",
    "]\n",
    "\n",
    "for date_str in date_strings:\n",
    "    print(f\"Checking '{date_str}':\", is_date_1_week_old(date_str))\n",
    "    print('\\n')\n"
   ]
  },
  {
   "cell_type": "code",
   "execution_count": 17,
   "metadata": {},
   "outputs": [
    {
     "name": "stdout",
     "output_type": "stream",
     "text": [
      "No pop-up close button found.\n",
      "<selenium.webdriver.remote.webelement.WebElement (session=\"e07cbc6bfb535a3c810dbfb6c266cbe5\", element=\"337FA0EEEF7A7083E08749F5867B68AA_element_29\")>\n",
      "[<selenium.webdriver.remote.webelement.WebElement (session=\"e07cbc6bfb535a3c810dbfb6c266cbe5\", element=\"337FA0EEEF7A7083E08749F5867B68AA_element_30\")>, <selenium.webdriver.remote.webelement.WebElement (session=\"e07cbc6bfb535a3c810dbfb6c266cbe5\", element=\"337FA0EEEF7A7083E08749F5867B68AA_element_31\")>, <selenium.webdriver.remote.webelement.WebElement (session=\"e07cbc6bfb535a3c810dbfb6c266cbe5\", element=\"337FA0EEEF7A7083E08749F5867B68AA_element_32\")>, <selenium.webdriver.remote.webelement.WebElement (session=\"e07cbc6bfb535a3c810dbfb6c266cbe5\", element=\"337FA0EEEF7A7083E08749F5867B68AA_element_33\")>, <selenium.webdriver.remote.webelement.WebElement (session=\"e07cbc6bfb535a3c810dbfb6c266cbe5\", element=\"337FA0EEEF7A7083E08749F5867B68AA_element_34\")>, <selenium.webdriver.remote.webelement.WebElement (session=\"e07cbc6bfb535a3c810dbfb6c266cbe5\", element=\"337FA0EEEF7A7083E08749F5867B68AA_element_35\")>, <selenium.webdriver.remote.webelement.WebElement (session=\"e07cbc6bfb535a3c810dbfb6c266cbe5\", element=\"337FA0EEEF7A7083E08749F5867B68AA_element_36\")>, <selenium.webdriver.remote.webelement.WebElement (session=\"e07cbc6bfb535a3c810dbfb6c266cbe5\", element=\"337FA0EEEF7A7083E08749F5867B68AA_element_37\")>, <selenium.webdriver.remote.webelement.WebElement (session=\"e07cbc6bfb535a3c810dbfb6c266cbe5\", element=\"337FA0EEEF7A7083E08749F5867B68AA_element_38\")>, <selenium.webdriver.remote.webelement.WebElement (session=\"e07cbc6bfb535a3c810dbfb6c266cbe5\", element=\"337FA0EEEF7A7083E08749F5867B68AA_element_39\")>, <selenium.webdriver.remote.webelement.WebElement (session=\"e07cbc6bfb535a3c810dbfb6c266cbe5\", element=\"337FA0EEEF7A7083E08749F5867B68AA_element_40\")>, <selenium.webdriver.remote.webelement.WebElement (session=\"e07cbc6bfb535a3c810dbfb6c266cbe5\", element=\"337FA0EEEF7A7083E08749F5867B68AA_element_41\")>]\n",
      "Standard Format is :  2023-08-10 00:00:00\n",
      "Standardized date: 2023-08-10 00:00:00\n",
      "Difference of date: 6 days, 16:03:54.022088\n",
      "true\n",
      "Raw date text: August 10, 2023\n",
      "Standard Format is :  2023-08-09 00:00:00\n",
      "Standardized date: 2023-08-09 00:00:00\n",
      "Difference of date: 7 days, 16:03:56.214547\n"
     ]
    }
   ],
   "source": [
    "links_list = []\n",
    "flag = 0\n",
    "page_number = 1\n",
    "\n",
    "chrome_options = Options()\n",
    "chrome_options.add_argument(\"--no-sandbox\")\n",
    "chrome_options.add_argument(\"--headless\") \n",
    "\n",
    "driver = webdriver.Chrome(options=chrome_options)\n",
    "\n",
    "while flag < 1:\n",
    "    driver.get(\"https://ambcrypto.com/search/Blockchain\")\n",
    "    time.sleep(10)\n",
    "    wait = WebDriverWait(driver, 5)\n",
    "        \n",
    "    try:\n",
    "        popup_button = wait.until(EC.presence_of_element_located((By.CSS_SELECTOR, \".corwith-close\")))\n",
    "        popup_button.click()\n",
    "    except:\n",
    "        print(\"No pop-up close button found.\")\n",
    "\n",
    "    content = driver.find_element(By.CLASS_NAME, \"archive-posts\")\n",
    "    cards = content.find_elements(By.CLASS_NAME, \"home-post\")\n",
    "\n",
    "    article_links = []\n",
    "\n",
    "    for link_and_card in cards:\n",
    "        article_link = link_and_card.find_element(By.TAG_NAME, \"a\").get_attribute(\"href\")\n",
    "        article_links.append(article_link)  \n",
    "\n",
    "    for article_link in article_links:\n",
    "        driver.get(article_link)  \n",
    "        wait.until(EC.presence_of_element_located((By.CLASS_NAME, \"post-date\")))\n",
    "        date = driver.find_element(By.CLASS_NAME, \"post-date\")\n",
    "\n",
    "        if is_date_1_week_old(date.text):\n",
    "            print(\"Raw date text:\", date.text)\n",
    "            links_list.append(article_link)\n",
    "        else:\n",
    "            flag = 1\n",
    "            break    \n",
    "    page_number += 1\n",
    "        "
   ]
  },
  {
   "cell_type": "code",
   "execution_count": 18,
   "metadata": {},
   "outputs": [
    {
     "name": "stdout",
     "output_type": "stream",
     "text": [
      "1\n"
     ]
    },
    {
     "data": {
      "text/plain": [
       "['https://ambcrypto.com/lbank-labs-partners-global-top-university-blockchain-clubs-for-bootcamp/']"
      ]
     },
     "execution_count": 18,
     "metadata": {},
     "output_type": "execute_result"
    }
   ],
   "source": [
    "print(len(links_list))\n",
    "links_list"
   ]
  },
  {
   "cell_type": "code",
   "execution_count": 19,
   "metadata": {},
   "outputs": [
    {
     "name": "stdout",
     "output_type": "stream",
     "text": [
      "No pop-up close button found.\n",
      "0  left\n"
     ]
    }
   ],
   "source": [
    "list_para = []\n",
    "para_to_append = str()\n",
    "count = 1\n",
    "\n",
    "for link in links_list:\n",
    "    driver.get(link)\n",
    "    wait = WebDriverWait(driver, 5)\n",
    "\n",
    "    try:\n",
    "        popup_button = wait.until(EC.presence_of_element_located((By.CSS_SELECTOR, \".corwith-close\")))\n",
    "        popup_button.click()\n",
    "    except:\n",
    "        print(\"No pop-up close button found.\")    \n",
    "\n",
    "    content = driver.find_element(By.CLASS_NAME,\"single-post-main-middle\")\n",
    "    paragraph = (content.find_elements(By.TAG_NAME, \"p\"))\n",
    "    para_to_append = str()\n",
    "\n",
    "    for para in paragraph:\n",
    "        para_to_append += para.text\n",
    "\n",
    "    list_para.append(para_to_append)\n",
    "    print(len(links_list) - count, \" left\")\n",
    "    count += 1\n",
    "\n",
    "data_dict = dict()\n",
    "article_number = 1\n",
    "\n",
    "for article in list_para:\n",
    "    if len(article) != 0:\n",
    "        data_dict[\"AmbCrypto@Article \" + str(article_number)] = article\n",
    "        article_number += 1"
   ]
  },
  {
   "cell_type": "code",
   "execution_count": 20,
   "metadata": {},
   "outputs": [],
   "source": [
    "import json\n",
    "with open('AmbCrypto_Crone.json', 'w') as f:\n",
    "    json.dump(data_dict, f)"
   ]
  }
 ],
 "metadata": {
  "kernelspec": {
   "display_name": "base",
   "language": "python",
   "name": "python3"
  },
  "language_info": {
   "codemirror_mode": {
    "name": "ipython",
    "version": 3
   },
   "file_extension": ".py",
   "mimetype": "text/x-python",
   "name": "python",
   "nbconvert_exporter": "python",
   "pygments_lexer": "ipython3",
   "version": "3.11.3"
  },
  "orig_nbformat": 4
 },
 "nbformat": 4,
 "nbformat_minor": 2
}
